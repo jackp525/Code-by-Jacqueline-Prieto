{
  "nbformat": 4,
  "nbformat_minor": 0,
  "metadata": {
    "colab": {
      "provenance": []
    },
    "kernelspec": {
      "name": "python3",
      "display_name": "Python 3"
    },
    "language_info": {
      "name": "python"
    }
  },
  "cells": [
    {
      "cell_type": "code",
      "execution_count": null,
      "metadata": {
        "id": "rhr7aflvsKUg"
      },
      "outputs": [],
      "source": [
        "import numpy as np\n",
        "import math"
      ]
    },
    {
      "cell_type": "markdown",
      "source": [
        "#Introduction"
      ],
      "metadata": {
        "id": "Ucf7S2DfsFg1"
      }
    },
    {
      "cell_type": "code",
      "source": [
        "#Program Name:\n",
        "#Approximation of exponential function and factorial function\n",
        "\n",
        "#Purpose:\n",
        "# User-defined function to calculate the factorial of an inputted integer and user-defined function to approximate exponential function\n",
        "\n",
        "#Date       Programmer      Version Number\n",
        "#--------   -------------   ---------------\n",
        "#01/23/23   J. S. Prieto    Version 1"
      ],
      "metadata": {
        "id": "MP48aV1fsTQx"
      },
      "execution_count": null,
      "outputs": []
    },
    {
      "cell_type": "markdown",
      "source": [
        "#Data Dictionary"
      ],
      "metadata": {
        "id": "foNIJBIe8jBv"
      }
    },
    {
      "cell_type": "code",
      "source": [
        "#minimum= 1             (minimum number for exponetial function range 1-20)\n",
        "#maximum= 20            (maximum number for exponetial function range 1-20)\\\n",
        "#value  = 1           (value e is to the power of 0)"
      ],
      "metadata": {
        "id": "UHk1o6Q88mEY"
      },
      "execution_count": null,
      "outputs": []
    },
    {
      "cell_type": "markdown",
      "source": [
        "#Inputs/Variable:"
      ],
      "metadata": {
        "id": "69NHG4ov8qfD"
      }
    },
    {
      "cell_type": "code",
      "source": [
        "minimum= 1\n",
        "maximum= 20"
      ],
      "metadata": {
        "id": "uC9LsfZM8wCy"
      },
      "execution_count": null,
      "outputs": []
    },
    {
      "cell_type": "markdown",
      "source": [
        "#Factorial Function"
      ],
      "metadata": {
        "id": "jV8o9HpK72Qq"
      }
    },
    {
      "cell_type": "code",
      "source": [
        "def factorial(var):\n",
        "  try:\n",
        "    if var<minimum:\n",
        "      print(\"Value is negative. Value must be between 1 and 20.\")\n",
        "    elif var>maximum:\n",
        "      print(\"Value is too large. Value must be between 1 and 20.\")\n",
        "    else:\n",
        "      value= 1\n",
        "      for i in range(1,var + 1):\n",
        "        value = value*i\n",
        "      return value\n",
        "  except TypeError:\n",
        "    print('Input arguments must be an integer.')\n",
        "\n",
        "\n",
        "\n",
        "\n",
        "\n",
        "\n",
        "\n",
        "print(factorial(10))\n",
        "print(math.factorial(10))"
      ],
      "metadata": {
        "colab": {
          "base_uri": "https://localhost:8080/"
        },
        "id": "F2XhN_LssgMG",
        "outputId": "ef385fa3-50f5-492a-f039-e97393877dbf"
      },
      "execution_count": null,
      "outputs": [
        {
          "output_type": "stream",
          "name": "stdout",
          "text": [
            "3628800\n",
            "3628800\n"
          ]
        }
      ]
    },
    {
      "cell_type": "markdown",
      "source": [
        "#Function Approximation e^x"
      ],
      "metadata": {
        "id": "8_Zg2PdM9fe2"
      }
    },
    {
      "cell_type": "code",
      "source": [
        "def exponential(x,n):\n",
        "  try:\n",
        "    if ((-10<=x<=10)&(1<=n<=20)):\n",
        "        return exponential(x, n-1) + (x**n)/factorial(n)\n",
        "\n",
        "    elif (n== 0):\n",
        "      return 1\n",
        "  except TypeError:\n",
        "    print('Input arguments must be an integer.')\n",
        "\n",
        "\n",
        "\n",
        "\n",
        "print(exponential(0.08,3))"
      ],
      "metadata": {
        "colab": {
          "base_uri": "https://localhost:8080/"
        },
        "id": "5rzkjpAb9mL6",
        "outputId": "37cb372b-3f8a-46fc-af69-27777fcfa776"
      },
      "execution_count": null,
      "outputs": [
        {
          "output_type": "stream",
          "name": "stdout",
          "text": [
            "1.0832853333333334\n"
          ]
        }
      ]
    }
  ]
}
