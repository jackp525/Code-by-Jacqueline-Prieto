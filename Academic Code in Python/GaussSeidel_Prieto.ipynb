{
  "nbformat": 4,
  "nbformat_minor": 0,
  "metadata": {
    "colab": {
      "provenance": []
    },
    "kernelspec": {
      "name": "python3",
      "display_name": "Python 3"
    },
    "language_info": {
      "name": "python"
    }
  },
  "cells": [
    {
      "cell_type": "code",
      "source": [
        "#Gauss Seidel Relaxed Method Calculations\n",
        "\n",
        "#Purpose:\n",
        "  #This program solves for variables in a system of equations using the Guass Seidel Relaxed method.\n",
        "  #It calculates x1, x1, and x3 of a 3x3 matrix while implementing the use of lamda.\n",
        "\n",
        "#Date       Programmer     Version\n",
        "#-------    -----------    -------\n",
        "#02/29/24   J. S. Prieto      1"
      ],
      "metadata": {
        "id": "mN8qOUSAzv1A"
      },
      "execution_count": null,
      "outputs": []
    },
    {
      "cell_type": "code",
      "source": [
        "#Data Dictionary:\n",
        "\n",
        "#A                     ! coefficient matrix\n",
        "#data_matrix           ! data matrix pulled from txt file\n",
        "#b                     ! constant vector\n",
        "#xinit (0)             ! initial solution guess vector (1d) (make sure it is a NumPy vector)\n",
        "#es                    ! stopping criterion\n",
        "#maxit                 ! maximum number of iterations\n",
        "#Amatrix               ! coefficient matrix\n",
        "#result_array          ! array of valus calculted using GaussSeidelRelaxed() includes vales of lamda\n",
        "#lam                   ! value of lamda\n",
        "#temp2                 ! number of iterations\n",
        "#temp                  ! solved values of x1, x2, and x3 using 19 different values for lamda\n"
      ],
      "metadata": {
        "id": "i-TRS1U70PTA"
      },
      "execution_count": null,
      "outputs": []
    },
    {
      "cell_type": "code",
      "source": [
        "import pandas as pd\n",
        "import numpy as np"
      ],
      "metadata": {
        "id": "x_a4guiJNMJG"
      },
      "execution_count": null,
      "outputs": []
    },
    {
      "cell_type": "code",
      "source": [
        "import os\n",
        "from google.colab import drive\n",
        "\n",
        "drive.mount('/content/drive')\n",
        "os.chdir('/content/drive/My Drive/')"
      ],
      "metadata": {
        "id": "ItMKND8iNrdC",
        "colab": {
          "base_uri": "https://localhost:8080/"
        },
        "outputId": "1fa54743-6a0f-4427-83de-f3af08aa14be"
      },
      "execution_count": null,
      "outputs": [
        {
          "output_type": "stream",
          "name": "stdout",
          "text": [
            "Mounted at /content/drive\n"
          ]
        }
      ]
    },
    {
      "cell_type": "code",
      "source": [
        "#os.chdir('/content/drive/My Drive/Colab Notebooks/data')\n",
        "os.chdir('/content/drive/Shared drives/shared_226_s24/data')   #For shared files"
      ],
      "metadata": {
        "id": "FG0vrtdfNsUz"
      },
      "execution_count": null,
      "outputs": []
    },
    {
      "cell_type": "code",
      "source": [
        "#Ask the user for the file name\n",
        "#Enter lab6data.txt\n",
        "#Note that this file contains the wront initial value (on purpoe). You should create your own input file as instructed in the lab assignment."
      ],
      "metadata": {
        "id": "5Km9FkuxNvSn"
      },
      "execution_count": null,
      "outputs": []
    },
    {
      "cell_type": "code",
      "source": [
        "filename = input('Enter the name of your file, including the extension:  ')\n"
      ],
      "metadata": {
        "id": "_FU5HBZdNymi",
        "colab": {
          "base_uri": "https://localhost:8080/"
        },
        "outputId": "d889a263-b187-44f7-e2aa-afa415f131ba"
      },
      "execution_count": null,
      "outputs": [
        {
          "name": "stdout",
          "output_type": "stream",
          "text": [
            "Enter the name of your file, including the extension:  lab6data.txt\n"
          ]
        }
      ]
    },
    {
      "cell_type": "code",
      "source": [
        "#Attempt to read in the file with FileNoteFoundError trapping"
      ],
      "metadata": {
        "id": "TuJ6zPt9N18V"
      },
      "execution_count": null,
      "outputs": []
    },
    {
      "cell_type": "code",
      "source": [
        "while True and filename!='exit':\n",
        "  try:\n",
        "      i = 0\n",
        "      with open(filename,'r') as data_file:\n",
        "\n",
        "        for line in data_file: #Each line in the text file is read separately\n",
        "          if i ==0:  #For the first line, we read the number of equations, the maximum iterations allowed, and the error tolerance\n",
        "            data = line.split() # The split function splits data in a single lie into multiple data (based on commas, or spaces, or tabs)\n",
        "            neqn = int(data[0])\n",
        "            xval = np.full((neqn),-9.99)\n",
        "            xval[:] = float(data[1])\n",
        "            maxiter = int(data[2])\n",
        "            err_tol = float(data[3])\n",
        "            print(neqn, xval, maxiter, err_tol) # Key info so good to print and verify, specially while programming it\n",
        "            data_matrix = np.full((neqn,neqn + 1), -999) # We then create a Numpy array (based on neqn) to store the actual matrix\n",
        "            i = i +1\n",
        "            j = 0\n",
        "\n",
        "          else:\n",
        "            data = line.split()\n",
        "            for k in range(0,neqn+1):  # Since we expect neqn + 1 number of columns in our matrix, we read each one into our NumPy Array\n",
        "              data_matrix[j,k] = float(data[k])\n",
        "              #print(i, j, k)\n",
        "            j = j + 1\n",
        "\n",
        "\n",
        "      print(f' The file {filename} has been read successfully')\n",
        "\n",
        "  except FileNotFoundError:\n",
        "      print(type(FileNotFoundError))\n",
        "      print('Please verify the name of the file and re-enter it')\n",
        "      filename = input('Enter the name of your file, including the extension:  ')\n",
        "  else:\n",
        "      break\n",
        "print(f' Exited data file reading while loop')"
      ],
      "metadata": {
        "id": "-dtCsDyxN4_W",
        "colab": {
          "base_uri": "https://localhost:8080/"
        },
        "outputId": "b0d370ee-be81-4df5-a22e-01658045daf4"
      },
      "execution_count": null,
      "outputs": [
        {
          "output_type": "stream",
          "name": "stdout",
          "text": [
            "3 [0. 0. 0.] 1000 0.0001\n",
            " The file lab6data.txt has been read successfully\n",
            " Exited data file reading while loop\n"
          ]
        }
      ]
    },
    {
      "cell_type": "code",
      "source": [
        "type(data_matrix)"
      ],
      "metadata": {
        "id": "XW8M0dsZXaLl",
        "colab": {
          "base_uri": "https://localhost:8080/"
        },
        "outputId": "5cd40248-1028-4bd4-ab3b-146d7a3bc90a"
      },
      "execution_count": null,
      "outputs": [
        {
          "output_type": "execute_result",
          "data": {
            "text/plain": [
              "numpy.ndarray"
            ]
          },
          "metadata": {},
          "execution_count": 9
        }
      ]
    },
    {
      "cell_type": "code",
      "source": [
        "print(xval)\n",
        "print(err_tol)"
      ],
      "metadata": {
        "colab": {
          "base_uri": "https://localhost:8080/"
        },
        "id": "IDgNxYTLCXoR",
        "outputId": "5723e2a4-e40c-482c-e9ca-62bdef19b41e"
      },
      "execution_count": null,
      "outputs": [
        {
          "output_type": "stream",
          "name": "stdout",
          "text": [
            "[0. 0. 0.]\n",
            "0.0001\n"
          ]
        }
      ]
    },
    {
      "cell_type": "code",
      "source": [
        "print(data_matrix) # Always verify you read your data before proceeding further"
      ],
      "metadata": {
        "id": "Rg7faHOQXeFr",
        "colab": {
          "base_uri": "https://localhost:8080/"
        },
        "outputId": "593d4b95-3a7c-4043-ffde-1ef4a161e0c6"
      },
      "execution_count": null,
      "outputs": [
        {
          "output_type": "stream",
          "name": "stdout",
          "text": [
            "[[ 6 -1 -1  3]\n",
            " [ 6  9  1 40]\n",
            " [-3  1 12 50]]\n"
          ]
        }
      ]
    },
    {
      "cell_type": "code",
      "source": [
        "print(data)\n"
      ],
      "metadata": {
        "id": "yMnu9Xx-RVWs",
        "colab": {
          "base_uri": "https://localhost:8080/"
        },
        "outputId": "e8d2e9a3-4ec0-4c40-cdd6-3b2ea89aef62"
      },
      "execution_count": null,
      "outputs": [
        {
          "output_type": "stream",
          "name": "stdout",
          "text": [
            "['-3', '1', '12', '50']\n"
          ]
        }
      ]
    },
    {
      "cell_type": "markdown",
      "source": [
        "#Guass Seidel Relaxed Function Including Check for Diagonal Dominance\n",
        "\n"
      ],
      "metadata": {
        "id": "tY2WsjroaRlJ"
      }
    },
    {
      "cell_type": "code",
      "source": [
        "def GaussSeidelrelaxed(A,b,xinit,es,maxit,lam):\n",
        "\n",
        "  \"\"\"\n",
        "      Implements the Gauss-Seidel method\n",
        "\n",
        "      to solve a set of linear algebraic equations\n",
        "\n",
        "      without relaxation\n",
        "\n",
        "      Input:\n",
        "\n",
        "      A = coefficient matris\n",
        "\n",
        "      b = constant vector\n",
        "\n",
        "      xinit = initial solution guess vector (1d) (make sure it is a NumPy vector)\n",
        "\n",
        "      es = stopping criterion\n",
        "      maxit = maximum number of iterations\n",
        "\n",
        "\n",
        "\n",
        "      Output:\n",
        "\n",
        "      x = solution vector\n",
        "\n",
        "  \"\"\"\n",
        "\n",
        "\n",
        "  n,m = np.shape(A)\n",
        "\n",
        "  if n != m :\n",
        "\n",
        "    return 'Coefficient matrix must be square'\n",
        "\n",
        "  C = np.zeros((n,n)) # Identity matrix\n",
        "\n",
        "  x = xinit.copy() #Copy over the\n",
        "\n",
        "\n",
        "  for i in range(n):  # set up C matrix with zeros on the diagonal\n",
        "\n",
        "      for j in range(n):\n",
        "\n",
        "        if i != j:\n",
        "\n",
        "          C[i,j] = A[i,j]\n",
        "\n",
        "  d = np.zeros((n,1))\n",
        "\n",
        "  for i in range(n):  # divide C elements by A pivots\n",
        "\n",
        "    C[i,0:n] = C[i,0:n]/A[i,i]\n",
        "    d[i] = b[i]/A[i,i]\n",
        "\n",
        "  ea = np.zeros((n,1))\n",
        "\n",
        "  xold = np.zeros((n,1))\n",
        "\n",
        "  for i in range(0,n):\n",
        "    sum=0\n",
        "    for j in range (0,n):\n",
        "      sum = sum + abs(C[i][j])\n",
        "    sum= sum- abs(C[i][i])\n",
        "  if (abs(C[i][i])<sum):\n",
        "    print(\"Not Diagonally Dominant\")\n",
        "\n",
        "  else:\n",
        "    print(\"Matrix is Diagonally Dominant\")\n",
        "\n",
        "  for it in range(maxit):  # Gauss-Seidel method\n",
        "\n",
        "    for i in range(n):\n",
        "\n",
        "      xold[i] = x[i]  # save the x's for convergence test\n",
        "\n",
        "    for i in range(n):\n",
        "\n",
        "\n",
        "\n",
        "      x[i] = d[i] - C[i,:].dot(x)  # update the x's 1-by-1\n",
        "      x[i]= x[i]*lam+(1-lam)*xold[i]\n",
        "\n",
        "      if x[i] != 0:\n",
        "\n",
        "          ea[i] = abs((x[i]-xold[i])/x[i])  # compute change error\n",
        "\n",
        "\n",
        "\n",
        "    if np.max(ea) < es:  # exit for loop if es stopping criterion is met\n",
        "\n",
        "      return x, it\n",
        "\n",
        "    if it == maxit-1:  # check for maximum iteration exit\n",
        "\n",
        "      x[:] = np.nan\n",
        "      return x, it\n",
        "\n",
        "    else:\n",
        "\n",
        "      continue\n",
        "\n",
        "\n"
      ],
      "metadata": {
        "id": "UKvESroGT4vw"
      },
      "execution_count": null,
      "outputs": []
    },
    {
      "cell_type": "code",
      "source": [
        "Amatrix = data_matrix[:,0:neqn]"
      ],
      "metadata": {
        "id": "S-yOJG_sfVva"
      },
      "execution_count": null,
      "outputs": []
    },
    {
      "cell_type": "code",
      "source": [
        "print(Amatrix)"
      ],
      "metadata": {
        "id": "v-PTI0DBffwJ",
        "colab": {
          "base_uri": "https://localhost:8080/"
        },
        "outputId": "9eb545ab-cc89-4bf0-d025-c89ca89094a1"
      },
      "execution_count": null,
      "outputs": [
        {
          "output_type": "stream",
          "name": "stdout",
          "text": [
            "[[ 6 -1 -1]\n",
            " [ 6  9  1]\n",
            " [-3  1 12]]\n"
          ]
        }
      ]
    },
    {
      "cell_type": "code",
      "source": [
        "b_rhs = data_matrix[:,neqn:neqn+1]\n",
        "print(b_rhs)"
      ],
      "metadata": {
        "id": "7PR2wgvqfkMd",
        "colab": {
          "base_uri": "https://localhost:8080/"
        },
        "outputId": "e9a7d4f6-0c7c-4d38-8eeb-76b6281fc7ad"
      },
      "execution_count": null,
      "outputs": [
        {
          "output_type": "stream",
          "name": "stdout",
          "text": [
            "[[ 3]\n",
            " [40]\n",
            " [50]]\n"
          ]
        }
      ]
    },
    {
      "cell_type": "code",
      "source": [
        "#Declare initial soluiton"
      ],
      "metadata": {
        "id": "5qKnFGI38qBa"
      },
      "execution_count": null,
      "outputs": []
    },
    {
      "cell_type": "code",
      "source": [
        "GaussSeidelrelaxed(Amatrix,b_rhs, xval, err_tol, maxiter, 0.1)"
      ],
      "metadata": {
        "colab": {
          "base_uri": "https://localhost:8080/"
        },
        "id": "y9KC01xXLhxm",
        "outputId": "d23ab032-dfd9-4033-d02d-fea355847e0b"
      },
      "execution_count": null,
      "outputs": [
        {
          "output_type": "stream",
          "name": "stderr",
          "text": [
            "<ipython-input-13-cdd0f692c8e8>:70: DeprecationWarning: Conversion of an array with ndim > 0 to a scalar is deprecated, and will error in future. Ensure you extract a single element from your array before performing this operation. (Deprecated NumPy 1.25.)\n",
            "  x[i] = d[i] - C[i,:].dot(x)  # update the x's 1-by-1\n",
            "<ipython-input-13-cdd0f692c8e8>:71: DeprecationWarning: Conversion of an array with ndim > 0 to a scalar is deprecated, and will error in future. Ensure you extract a single element from your array before performing this operation. (Deprecated NumPy 1.25.)\n",
            "  x[i]= x[i]*lam+(1-lam)*xold[i]\n"
          ]
        },
        {
          "output_type": "execute_result",
          "data": {
            "text/plain": [
              "(array([1.69732319, 2.83169316, 4.3532392 ]), 86)"
            ]
          },
          "metadata": {},
          "execution_count": 18
        }
      ]
    },
    {
      "cell_type": "code",
      "source": [
        "#Call GaussSeidel Function (no relaxation)\n",
        "result_array= np.full((19,5),-9.99)\n",
        "lam=0\n",
        "for i in range(19):\n",
        "  lam= lam+0.1\n",
        "  print(i,lam)\n",
        "  temp,temp2= GaussSeidelrelaxed(Amatrix,b_rhs, xval, err_tol, maxiter, lam)\n",
        "  result_array[i,1]= temp2 #iterations\n",
        "  result_array[i,0]= lam #lamda value\n",
        "  result_array[i,2]= temp[0] #x1 value\n",
        "  result_array[i,3]= temp[1] #x2 Value\n",
        "  result_array[i,4]= temp[2]  #x3 value\n",
        "\n",
        "\n",
        "\n",
        "# array to get values of lamda 0.1-2.0\n",
        "\n",
        "# temp= GS_lam()\n",
        "# result_array[0,i]= temp[i]\n",
        "# x1= temp[0][0]\n",
        "# #x2= temp[]"
      ],
      "metadata": {
        "id": "FeLSwgE-f1qB",
        "outputId": "5e69d4ad-257f-459a-b5e6-813777815756",
        "colab": {
          "base_uri": "https://localhost:8080/"
        }
      },
      "execution_count": null,
      "outputs": [
        {
          "output_type": "stream",
          "name": "stdout",
          "text": [
            "0 0.1\n",
            "1 0.2\n",
            "2 0.30000000000000004\n",
            "3 0.4\n",
            "4 0.5\n",
            "5 0.6\n",
            "6 0.7\n",
            "7 0.7999999999999999\n",
            "8 0.8999999999999999\n",
            "9 0.9999999999999999\n",
            "10 1.0999999999999999\n",
            "11 1.2\n",
            "12 1.3\n",
            "13 1.4000000000000001\n",
            "14 1.5000000000000002\n",
            "15 1.6000000000000003\n",
            "16 1.7000000000000004\n",
            "17 1.8000000000000005\n"
          ]
        },
        {
          "output_type": "stream",
          "name": "stderr",
          "text": [
            "<ipython-input-13-cdd0f692c8e8>:70: DeprecationWarning: Conversion of an array with ndim > 0 to a scalar is deprecated, and will error in future. Ensure you extract a single element from your array before performing this operation. (Deprecated NumPy 1.25.)\n",
            "  x[i] = d[i] - C[i,:].dot(x)  # update the x's 1-by-1\n",
            "<ipython-input-13-cdd0f692c8e8>:71: DeprecationWarning: Conversion of an array with ndim > 0 to a scalar is deprecated, and will error in future. Ensure you extract a single element from your array before performing this operation. (Deprecated NumPy 1.25.)\n",
            "  x[i]= x[i]*lam+(1-lam)*xold[i]\n"
          ]
        },
        {
          "output_type": "stream",
          "name": "stdout",
          "text": [
            "18 1.9000000000000006\n"
          ]
        }
      ]
    },
    {
      "cell_type": "code",
      "source": [
        "print(result_array) #four or five decimal places"
      ],
      "metadata": {
        "colab": {
          "base_uri": "https://localhost:8080/"
        },
        "id": "V73Pb2mCKQ6M",
        "outputId": "6ad7b5ec-8a53-4b04-e0ce-051836edd824"
      },
      "execution_count": null,
      "outputs": [
        {
          "output_type": "stream",
          "name": "stdout",
          "text": [
            "[[1.00000000e-01 8.60000000e+01 1.69732319e+00 2.83169316e+00\n",
            "  4.35323920e+00]\n",
            " [2.00000000e-01 4.50000000e+01 1.69741369e+00 2.82994188e+00\n",
            "  4.35453057e+00]\n",
            " [3.00000000e-01 2.90000000e+01 1.69742522e+00 2.82960069e+00\n",
            "  4.35479061e+00]\n",
            " [4.00000000e-01 2.10000000e+01 1.69742618e+00 2.82932978e+00\n",
            "  4.35499207e+00]\n",
            " [5.00000000e-01 1.60000000e+01 1.69742238e+00 2.82916275e+00\n",
            "  4.35511446e+00]\n",
            " [6.00000000e-01 1.30000000e+01 1.69740163e+00 2.82901335e+00\n",
            "  4.35521811e+00]\n",
            " [7.00000000e-01 1.00000000e+01 1.69740201e+00 2.82897974e+00\n",
            "  4.35524215e+00]\n",
            " [8.00000000e-01 8.00000000e+00 1.69738517e+00 2.82894476e+00\n",
            "  4.35526405e+00]\n",
            " [9.00000000e-01 6.00000000e+00 1.69737103e+00 2.82893849e+00\n",
            "  4.35526685e+00]\n",
            " [1.00000000e+00 5.00000000e+00 1.69736916e+00 2.82894576e+00\n",
            "  4.35526348e+00]\n",
            " [1.10000000e+00 7.00000000e+00 1.69736061e+00 2.82895847e+00\n",
            "  4.35526321e+00]\n",
            " [1.20000000e+00 9.00000000e+00 1.69734781e+00 2.82898034e+00\n",
            "  4.35528718e+00]\n",
            " [1.30000000e+00 1.40000000e+01 1.69740520e+00 2.82888718e+00\n",
            "  4.35529708e+00]\n",
            " [1.40000000e+00 2.00000000e+01 1.69738932e+00 2.82889959e+00\n",
            "  4.35532761e+00]\n",
            " [1.50000000e+00 3.20000000e+01 1.69734688e+00 2.82900435e+00\n",
            "  4.35519364e+00]\n",
            " [1.60000000e+00 5.80000000e+01 1.69736747e+00 2.82898221e+00\n",
            "  4.35515890e+00]\n",
            " [1.70000000e+00 2.61000000e+02 1.69743598e+00 2.82886641e+00\n",
            "  4.35511442e+00]\n",
            " [1.80000000e+00 9.99000000e+02            nan            nan\n",
            "             nan]\n",
            " [1.90000000e+00 9.99000000e+02            nan            nan\n",
            "             nan]]\n"
          ]
        }
      ]
    },
    {
      "cell_type": "code",
      "source": [
        "np.linalg.solve(Amatrix,b_rhs)"
      ],
      "metadata": {
        "id": "OtxqTA1OgEgm",
        "colab": {
          "base_uri": "https://localhost:8080/"
        },
        "outputId": "92e1d99c-ec9d-44f1-e19f-7bdb1438e075"
      },
      "execution_count": null,
      "outputs": [
        {
          "output_type": "execute_result",
          "data": {
            "text/plain": [
              "array([[1.69736842],\n",
              "       [2.82894737],\n",
              "       [4.35526316]])"
            ]
          },
          "metadata": {},
          "execution_count": 22
        }
      ]
    },
    {
      "cell_type": "markdown",
      "source": [
        "#Printing Values table"
      ],
      "metadata": {
        "id": "gDcBUwmkWFxF"
      }
    },
    {
      "cell_type": "code",
      "source": [
        "print('|'+('-'*63)+'|')\n",
        "print(f'|{\"Lamda\":^11}|{\"Iterations\":^12}|{\"x1\":^12}|{\"x2\":^12}|{\"x3\":^12}|')\n",
        "print('|'+('-'*63)+'|')\n",
        "for i in range(19):\n",
        "  print(f'|{result_array[i,0]:^11,.1f}|{result_array[i,1]:^12,.0f}|{result_array[i,2]:^12,.4f}|{result_array[i,3]:^12,.4f}|{result_array[i,4]:^12,.4f}|')\n",
        "print('|'+('-'*63)+'|')\n",
        "print(\"\\n\")\n"
      ],
      "metadata": {
        "id": "X-GhXGL-wRAE",
        "colab": {
          "base_uri": "https://localhost:8080/"
        },
        "outputId": "c626fbde-2a7c-4e83-a9ba-5308bc8a8563"
      },
      "execution_count": null,
      "outputs": [
        {
          "output_type": "stream",
          "name": "stdout",
          "text": [
            "|---------------------------------------------------------------|\n",
            "|   Lamda   | Iterations |     x1     |     x2     |     x3     |\n",
            "|---------------------------------------------------------------|\n",
            "|    0.1    |     86     |   1.6973   |   2.8317   |   4.3532   |\n",
            "|    0.2    |     45     |   1.6974   |   2.8299   |   4.3545   |\n",
            "|    0.3    |     29     |   1.6974   |   2.8296   |   4.3548   |\n",
            "|    0.4    |     21     |   1.6974   |   2.8293   |   4.3550   |\n",
            "|    0.5    |     16     |   1.6974   |   2.8292   |   4.3551   |\n",
            "|    0.6    |     13     |   1.6974   |   2.8290   |   4.3552   |\n",
            "|    0.7    |     10     |   1.6974   |   2.8290   |   4.3552   |\n",
            "|    0.8    |     8      |   1.6974   |   2.8289   |   4.3553   |\n",
            "|    0.9    |     6      |   1.6974   |   2.8289   |   4.3553   |\n",
            "|    1.0    |     5      |   1.6974   |   2.8289   |   4.3553   |\n",
            "|    1.1    |     7      |   1.6974   |   2.8290   |   4.3553   |\n",
            "|    1.2    |     9      |   1.6973   |   2.8290   |   4.3553   |\n",
            "|    1.3    |     14     |   1.6974   |   2.8289   |   4.3553   |\n",
            "|    1.4    |     20     |   1.6974   |   2.8289   |   4.3553   |\n",
            "|    1.5    |     32     |   1.6973   |   2.8290   |   4.3552   |\n",
            "|    1.6    |     58     |   1.6974   |   2.8290   |   4.3552   |\n",
            "|    1.7    |    261     |   1.6974   |   2.8289   |   4.3551   |\n",
            "|    1.8    |    999     |    nan     |    nan     |    nan     |\n",
            "|    1.9    |    999     |    nan     |    nan     |    nan     |\n",
            "|---------------------------------------------------------------|\n",
            "\n",
            "\n"
          ]
        }
      ]
    },
    {
      "cell_type": "code",
      "source": [
        "import matplotlib.pyplot as plt\n",
        "\n",
        "\n",
        "x=result_array[:,0]; y=result_array[:,1]\n",
        "\n",
        "plt.scatter(x,y)\n",
        "plt.title(\"Convergence vs. Lamda\")\n",
        "plt.xlabel(\"Lamda Value\")\n",
        "plt.ylabel(\"Number of Iterations\")\n",
        "plt.show()\n",
        "\n",
        "print(\"\\n\")\n",
        "print(\"Lamda value 1.0 produced the smallest number of iterations.\")"
      ],
      "metadata": {
        "colab": {
          "base_uri": "https://localhost:8080/",
          "height": 524
        },
        "id": "x65LPOP2BXIK",
        "outputId": "54308f08-145f-416b-e79c-b8292c521a04"
      },
      "execution_count": null,
      "outputs": [
        {
          "output_type": "display_data",
          "data": {
            "text/plain": [
              "<Figure size 640x480 with 1 Axes>"
            ],
            "image/png": "[encoded data removed]"
          },
          "metadata": {}
        },
        {
          "output_type": "stream",
          "name": "stdout",
          "text": [
            "\n",
            "\n",
            "Lamda value 1.0 produced the smallest number of iterations.\n"
          ]
        }
      ]
    },
    {
      "cell_type": "code",
      "source": [
        "Non_ddom= np.array([[-3.,1.,12.],  #not diagonally dominant matrix check\n",
        "                    [6.,-1.,-1.],\n",
        "                    [6.,9.,1.]])\n",
        "\n",
        "print (GaussSeidelrelaxed(Non_ddom,b_rhs, xval, err_tol, maxiter, lam))\n"
      ],
      "metadata": {
        "colab": {
          "base_uri": "https://localhost:8080/"
        },
        "id": "kVvQRKYT4IbJ",
        "outputId": "0580b3dc-3764-4575-8a44-8dbd50a749f4"
      },
      "execution_count": null,
      "outputs": [
        {
          "output_type": "stream",
          "name": "stdout",
          "text": [
            "Not Diagonally Dominant\n",
            "(array([nan, nan, nan]), 999)\n"
          ]
        },
        {
          "output_type": "stream",
          "name": "stderr",
          "text": [
            "<ipython-input-40-3ef30914bd5d>:81: DeprecationWarning: Conversion of an array with ndim > 0 to a scalar is deprecated, and will error in future. Ensure you extract a single element from your array before performing this operation. (Deprecated NumPy 1.25.)\n",
            "  x[i] = d[i] - C[i,:].dot(x)  # update the x's 1-by-1\n",
            "<ipython-input-40-3ef30914bd5d>:82: DeprecationWarning: Conversion of an array with ndim > 0 to a scalar is deprecated, and will error in future. Ensure you extract a single element from your array before performing this operation. (Deprecated NumPy 1.25.)\n",
            "  x[i]= x[i]*lam+(1-lam)*xold[i]\n",
            "<ipython-input-40-3ef30914bd5d>:86: RuntimeWarning: invalid value encountered in divide\n",
            "  ea[i] = abs((x[i]-xold[i])/x[i])  # compute change error\n"
          ]
        }
      ]
    }
  ]
}
