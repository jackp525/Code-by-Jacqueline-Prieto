{
  "nbformat": 4,
  "nbformat_minor": 0,
  "metadata": {
    "colab": {
      "provenance": []
    },
    "kernelspec": {
      "name": "python3",
      "display_name": "Python 3"
    },
    "language_info": {
      "name": "python"
    }
  },
  "cells": [
    {
      "cell_type": "markdown",
      "source": [
        "#Introduction"
      ],
      "metadata": {
        "id": "uFea3mwTKo5l"
      }
    },
    {
      "cell_type": "code",
      "source": [
        "#Program Title:\n",
        "#Numerical Differentiation\n",
        "\n",
        "#Purpose:\n",
        "#This program solves for the first derivative of the function e^(-2x)-x at x=2 using the first and second level equations of\n",
        "#forward, backward, and center difference. It also calcultes the relative and absolute percent error with regards to the\n",
        "#actual value of f'(2).\n",
        "\n",
        "#Date       Programmer      Version Number\n",
        "#--------   -------------   ---------------\n",
        "#04/15/24   J. S. Prieto    Version 1\n"
      ],
      "metadata": {
        "id": "LIJl_V24KiFp"
      },
      "execution_count": null,
      "outputs": []
    },
    {
      "cell_type": "markdown",
      "source": [
        "#Data Dictionary"
      ],
      "metadata": {
        "id": "VY5sOYjsRRd6"
      }
    },
    {
      "cell_type": "code",
      "source": [
        "#Data Dictionary\n",
        "\n",
        "#f                  !main equation function\n",
        "#f_1deriv           !derivative of main equation\n",
        "#oh_forward         !First Derivative for Forward Difference O(h)\n",
        "#oh2_forward        !First Derivative for Forward Difference O(h^2)\n",
        "#oh_backward        !First Derivative for Backward Difference O(h)\n",
        "#oh2_backward       !First Derivative for Backward Difference O(h^2)\n",
        "#oh2_center         !First Derivative for Center Difference O(h^2)\n",
        "#oh4_center         !First Derivative for Center Difference O(h^4)\n",
        "#forward_diff       !function to calculate forward difference\n",
        "#backward_diff      !function to calculate backward difference\n",
        "#center_diff        !function to calculate center difference\n",
        "#func               !function to input into calculation\n",
        "#x                  !x value to inpuy for f(x)\n",
        "#h                  !h value to input\n",
        "#hvalues            !list of h values starting at 0.6 decrementing to 0.2. by 0.1\n",
        "#values             !array of calculated values\n",
        "#abs_error          !function to calculate absolute percent error value\n",
        "#estimate           !estimated calculatd value to compare to actual f'(2) value\n",
        "#abs_error_values   !array of calculated absolute percent error values\n",
        "#relative_error     !function to calculate relative percent error value\n",
        "#current            !current calculated value being compared to previous calculatd value for relative percent error value\n",
        "#previous           !previous calculated value being compared to current calculatd value for relative percent error value\n",
        "#rel_error_values   !array of calculated relative percent error values\n",
        "#fprime             !f prime first derivative at x=2\n",
        "#forwardOh_plt      !forward O(h) values in blue on scatter plot 1\n",
        "#backwardOh_plt     !backward O(h) values in orange on scatter plot 1\n",
        "#centerOh2_plt      !center O(h) values in green on scatter plot 1\n",
        "#forwardOh2_plt     !forward O(h^2) values in blue on scatter plot 2\n",
        "#backwardOh2_plt    !backward O(h^2) values in orange on scatter plot 2\n",
        "#centerOh4_plt      !center O(h^4) values in green on scatter plot 2"
      ],
      "metadata": {
        "id": "cnR7pNHORXsX"
      },
      "execution_count": null,
      "outputs": []
    },
    {
      "cell_type": "code",
      "execution_count": null,
      "metadata": {
        "id": "WZwD90Gc21MV"
      },
      "outputs": [],
      "source": [
        "import numpy as np\n",
        "import math\n",
        "import matplotlib.pyplot as plt"
      ]
    },
    {
      "cell_type": "markdown",
      "source": [
        "#Function"
      ],
      "metadata": {
        "id": "ruu_sH0-6Whk"
      }
    },
    {
      "cell_type": "code",
      "source": [
        "def f(x): #main equation function\n",
        "  return math.e ** (-2*x) -x"
      ],
      "metadata": {
        "id": "5QiTk24k6Y7C"
      },
      "execution_count": null,
      "outputs": []
    },
    {
      "cell_type": "code",
      "source": [
        "def f_1deriv(x): #derivative of main equation\n",
        "  return -2*math.e ** (-2*x) -1"
      ],
      "metadata": {
        "id": "6qt025_HdaUo"
      },
      "execution_count": null,
      "outputs": []
    },
    {
      "cell_type": "markdown",
      "source": [
        "#H values"
      ],
      "metadata": {
        "id": "YoO8lH6n7JPG"
      }
    },
    {
      "cell_type": "code",
      "source": [
        "0.6\n",
        "0.5\n",
        "0.4\n",
        "0.3\n",
        "0.2\n"
      ],
      "metadata": {
        "id": "aH7SGqOO7KvP",
        "colab": {
          "base_uri": "https://localhost:8080/"
        },
        "outputId": "be357076-21be-4416-ff29-0c89435a48cf"
      },
      "execution_count": null,
      "outputs": [
        {
          "output_type": "execute_result",
          "data": {
            "text/plain": [
              "0.2"
            ]
          },
          "metadata": {},
          "execution_count": 5
        }
      ]
    },
    {
      "cell_type": "markdown",
      "source": [
        "#Equations First Derivative"
      ],
      "metadata": {
        "id": "iYbsQgm05fmZ"
      }
    },
    {
      "cell_type": "code",
      "source": [
        "\n",
        "#First Derivative for Forward Difference\n",
        "\n",
        "# oh_forward= (f(x+h) - f(x))/h    # O(h)\n",
        "# oh2_forward= (-1*(f(x+2*h))+4*(f(x+h))-3*(f(x)))/(2*h)   # O(h^2)\n",
        "\n",
        "# #First Derivative for Backward Difference\n",
        "\n",
        "# oh_backward= (f(x)- f(x+h))/h    # O(h)\n",
        "# oh2_backward= (3*f(x)-4*f(x+h)+ f(x-2*h))/(2*h) #O(h^2)\n",
        "\n",
        "# #First Derivative for Center Difference\n",
        "# oh2_center = (f(x+h)-f(x-h))/2*h    #O(h^2)\n",
        "# oh4_center= (-1*f(x+2*h)+8*f(x+h)-8*f(x-h)+f(x-2*h))/12*h   #O(h^4)"
      ],
      "metadata": {
        "id": "gfeiNBzJ5lvf"
      },
      "execution_count": null,
      "outputs": []
    },
    {
      "cell_type": "markdown",
      "source": [
        "#Forward Difference Function (O(h) and O(h2))"
      ],
      "metadata": {
        "id": "Svw2VRqw3HRF"
      }
    },
    {
      "cell_type": "code",
      "source": [
        "def forward_diff(func, x, h):\n",
        "  oh_forward= (f(x+h) - f(x))/h    # O(h)\n",
        "  oh2_forward= (-1*(f(x+2*h))+4*(f(x+h))-3*(f(x)))/(2*h)   # O(h^2)\n",
        "  return oh_forward, oh2_forward"
      ],
      "metadata": {
        "id": "iaoF1Wm53Gxr"
      },
      "execution_count": null,
      "outputs": []
    },
    {
      "cell_type": "markdown",
      "source": [
        "#Backward Difference Function (O(h) and O(h2))"
      ],
      "metadata": {
        "id": "-TAYhPYd3Ktq"
      }
    },
    {
      "cell_type": "code",
      "source": [
        "def backward_diff(func, x, h):\n",
        "  oh_backward= (f(x)- f(x-h))/h    # O(h)\n",
        "  oh2_backward= (3*f(x)-4*f(x-h)+ f(x-2*h))/(2*h) #O(h^2)\n",
        "  return oh_backward, oh2_backward"
      ],
      "metadata": {
        "id": "jkhURgGa3NxE"
      },
      "execution_count": null,
      "outputs": []
    },
    {
      "cell_type": "markdown",
      "source": [
        "#Central Difference Function (O(h2) and O(h4))"
      ],
      "metadata": {
        "id": "wEfHrPn83OEy"
      }
    },
    {
      "cell_type": "code",
      "source": [
        "def center_diff(func, x, h):\n",
        "  oh2_center = (f(x+h)-f(x-h))/(2*h)    #O(h^2)\n",
        "  oh4_center= (-1*f(x+2*h)+8*f(x+h)-8*f(x-h)+f(x-2*h))/(12*h)   #O(h^4)\n",
        "  return oh2_center, oh4_center"
      ],
      "metadata": {
        "id": "pyzlvHyqULJF"
      },
      "execution_count": null,
      "outputs": []
    },
    {
      "cell_type": "markdown",
      "source": [
        "#Calculations of Differences"
      ],
      "metadata": {
        "id": "Ec9DYCyKVleQ"
      }
    },
    {
      "cell_type": "code",
      "source": [
        "hvalues= [0.6,0.5,0.4,0.3,0.2]"
      ],
      "metadata": {
        "id": "pAMqCfYtXZ8U"
      },
      "execution_count": null,
      "outputs": []
    },
    {
      "cell_type": "code",
      "source": [
        "#forward difference calculations\n",
        "#x=2\n",
        "#function = f(x)\n",
        "#h= 0.6\n",
        "print(forward_diff(f, 2, 0.6))"
      ],
      "metadata": {
        "colab": {
          "base_uri": "https://localhost:8080/"
        },
        "id": "x9t8GlDkVokr",
        "outputId": "4a7613b9-2665-4d26-c02b-d0a503b902a7"
      },
      "execution_count": null,
      "outputs": [
        {
          "output_type": "stream",
          "name": "stdout",
          "text": [
            "(-1.0213317907799557, -1.028785180213611)\n"
          ]
        }
      ]
    },
    {
      "cell_type": "code",
      "source": [
        "x=2\n",
        "values= np.zeros((5,7))\n",
        "values[:,0]= hvalues\n",
        "print(values)"
      ],
      "metadata": {
        "colab": {
          "base_uri": "https://localhost:8080/"
        },
        "id": "n_SbR9kDXVvv",
        "outputId": "ee3a193b-50c9-4e3d-97fd-ff05b5a49b1e"
      },
      "execution_count": null,
      "outputs": [
        {
          "output_type": "stream",
          "name": "stdout",
          "text": [
            "[[0.6 0.  0.  0.  0.  0.  0. ]\n",
            " [0.5 0.  0.  0.  0.  0.  0. ]\n",
            " [0.4 0.  0.  0.  0.  0.  0. ]\n",
            " [0.3 0.  0.  0.  0.  0.  0. ]\n",
            " [0.2 0.  0.  0.  0.  0.  0. ]]\n"
          ]
        }
      ]
    },
    {
      "cell_type": "code",
      "source": [
        "x=2 #x-value of 2\n",
        "for i in range(len(values[:,0])):   #for loop to calculated each decrement of h for both returns of center, backward, forward difference equations\n",
        "  values[i,1]= (forward_diff(f, x, hvalues[i])[0]) #forward difference calc for O(h)\n",
        "  values[i,2]= (forward_diff(f, x, hvalues[i])[1]) #forward difference calc for O(h^2)\n",
        "  values[i,3]= (backward_diff(f, x, hvalues[i])[0]) #backward difference calc for O(h)\n",
        "  values[i,4]= (backward_diff(f, x, hvalues[i])[1]) #backward difference calc for O(h^2)\n",
        "  values[i,5]= (center_diff(f, x, hvalues[i])[0])   #center difference calc for O(h^2)\n",
        "  values[i,6]= (center_diff(f, x, hvalues[i])[1])  #center difference calc for O(h^4)\n",
        "\n",
        "  # values[1,i]= (forward_diff(f, x, hvalues[i])[0]) #forward difference calc for O(h)\n",
        "  # values[2,i]= (forward_diff(f, x, hvalues[i])[1]) #forward difference calc for O(h^2)\n",
        "  # values[3,i]= (backward_diff(f, x, hvalues[i])[0]) #backward difference calc for O(h)\n",
        "  # values[4,i]= (backward_diff(f, x, hvalues[i])[1]) #backward difference calc for O(h^2)\n",
        "  # values[5,i]= (center_diff(f, x, hvalues[i])[0])   #center difference calc for O(h^2)\n",
        "  # values[6,i]= (center_diff(f, x, hvalues[i])[1])  #center difference calc for O(h^4)\n",
        "print(values)"
      ],
      "metadata": {
        "colab": {
          "base_uri": "https://localhost:8080/"
        },
        "id": "9QzB32NxZSqb",
        "outputId": "9e7a00e2-7aaf-4321-f569-32391fbc372b"
      },
      "execution_count": null,
      "outputs": [
        {
          "output_type": "stream",
          "name": "stdout",
          "text": [
            "[[ 0.6        -1.02133179 -1.02878518 -1.07082404 -0.98866401 -1.04607792\n",
            "  -1.03362681]\n",
            " [ 0.5        -1.02315538 -1.03047388 -1.06294286 -1.00886607 -1.04304912\n",
            "  -1.03525607]\n",
            " [ 0.4        -1.02521473 -1.03215724 -1.05611641 -1.02172993 -1.04066557\n",
            "  -1.03609158]\n",
            " [ 0.3        -1.02754601 -1.03376023 -1.0501921  -1.02956017 -1.03886906\n",
            "  -1.0364661 ]\n",
            " [ 0.2        -1.03019149 -1.03516826 -1.04504042 -1.03396442 -1.03761596\n",
            "  -1.03659942]]\n"
          ]
        }
      ]
    },
    {
      "cell_type": "markdown",
      "source": [
        "#Calculated Values Table"
      ],
      "metadata": {
        "id": "3k4m7OzRnShm"
      }
    },
    {
      "cell_type": "code",
      "source": [
        "print('|'+('-'*118)+'|')\n",
        "print(f'\\033[1m|{\"Numerical Differentiation Estimates\":^118}|\\033[0m')\n",
        "print('|'+('-'*118)+'|')\n",
        "print(f'|{\"h values\":^16}|{\"Forward\":^33}|{\"Backward\":^33}|{\"Center\":^33}|')\n",
        "print('|'+('-'*118)+'|')\n",
        "print(f'|{\" \":^16}|{\"O(h)\":^16}|{\"O(h^2)\":^16}|{\"O(h)\":^16}|{\"O(h^2)\":^16}|{\"O(h^2)\":^16}|{\"O(h^4)\":^16}|')\n",
        "print('|'+('-'*118)+'|')\n",
        "\n",
        "\n",
        "rows, columns = np.shape(values)\n",
        "for i in range(rows):\n",
        "    print(f'|{values[i,0]:^16,.1f}', end='')  # Printing the first column with .1f format\n",
        "    for j in range(1, columns):\n",
        "        print(f'|{values[i,j]:^16,.4f}', end='')  # Printing the rest of the columns with .4f format\n",
        "    print('|')\n",
        "\n",
        "print('|'+('-'*118)+'|')"
      ],
      "metadata": {
        "colab": {
          "base_uri": "https://localhost:8080/"
        },
        "id": "fwoyLqUPnVus",
        "outputId": "3c5bc693-b1ce-4e7a-f382-f77983593f44"
      },
      "execution_count": null,
      "outputs": [
        {
          "output_type": "stream",
          "name": "stdout",
          "text": [
            "|----------------------------------------------------------------------------------------------------------------------|\n",
            "\u001b[1m|                                         Numerical Differentiation Estimates                                          |\u001b[0m\n",
            "|----------------------------------------------------------------------------------------------------------------------|\n",
            "|    h values    |             Forward             |            Backward             |             Center              |\n",
            "|----------------------------------------------------------------------------------------------------------------------|\n",
            "|                |      O(h)      |     O(h^2)     |      O(h)      |     O(h^2)     |     O(h^2)     |     O(h^4)     |\n",
            "|----------------------------------------------------------------------------------------------------------------------|\n",
            "|      0.6       |    -1.0213     |    -1.0288     |    -1.0708     |    -0.9887     |    -1.0461     |    -1.0336     |\n",
            "|      0.5       |    -1.0232     |    -1.0305     |    -1.0629     |    -1.0089     |    -1.0430     |    -1.0353     |\n",
            "|      0.4       |    -1.0252     |    -1.0322     |    -1.0561     |    -1.0217     |    -1.0407     |    -1.0361     |\n",
            "|      0.3       |    -1.0275     |    -1.0338     |    -1.0502     |    -1.0296     |    -1.0389     |    -1.0365     |\n",
            "|      0.2       |    -1.0302     |    -1.0352     |    -1.0450     |    -1.0340     |    -1.0376     |    -1.0366     |\n",
            "|----------------------------------------------------------------------------------------------------------------------|\n"
          ]
        }
      ]
    },
    {
      "cell_type": "markdown",
      "source": [
        "#Percent Absolute Error"
      ],
      "metadata": {
        "id": "ElddowtPahem"
      }
    },
    {
      "cell_type": "code",
      "source": [
        "x=2\n",
        "def abs_error(estimate):\n",
        "  return 100* abs((f_1deriv(x) - estimate)/f_1deriv(x))\n"
      ],
      "metadata": {
        "id": "ZD2PTtnDdLQ_"
      },
      "execution_count": null,
      "outputs": []
    },
    {
      "cell_type": "code",
      "source": [
        "abs_error_values= np.zeros((3,5))\n",
        "abs_error_values[0,:]= hvalues\n",
        "row,column= np.shape(abs_error_values)\n",
        "\n",
        "\n",
        "for i in range(column):\n",
        "  for j in range(row):\n",
        "    if j !=0:\n",
        "      abs_error_values[j,i] = abs_error(values[j,i])\n",
        "\n",
        "print(abs_error_values)"
      ],
      "metadata": {
        "colab": {
          "base_uri": "https://localhost:8080/"
        },
        "id": "Hw2XH3BTenjP",
        "outputId": "8a9eec73-94f7-457f-9e29-49166ee11a7a"
      },
      "execution_count": null,
      "outputs": [
        {
          "output_type": "stream",
          "name": "stdout",
          "text": [
            "[[0.6        0.5        0.4        0.3        0.2       ]\n",
            " [1.47588514 1.29996984 1.10131234 0.87642226 0.62122212]\n",
            " [0.75688412 0.5939814  0.43159392 0.27695938 0.14113191]]\n"
          ]
        }
      ]
    },
    {
      "cell_type": "markdown",
      "source": [
        "#Percent Relative Error"
      ],
      "metadata": {
        "id": "gaXysOFvkcCv"
      }
    },
    {
      "cell_type": "code",
      "source": [
        "x=2\n",
        "def relative_error(current, previous):\n",
        "  return 100 * abs((current-previous)/previous)"
      ],
      "metadata": {
        "id": "pMpJKc2Mkn62"
      },
      "execution_count": null,
      "outputs": []
    },
    {
      "cell_type": "code",
      "source": [
        "rel_error_values= np.zeros((3,5))\n",
        "rel_error_values[0,:]= hvalues\n",
        "row,column= np.shape(rel_error_values)\n",
        "\n",
        "for i in range(column-1):\n",
        "  for j in range(row):\n",
        "    if j !=0:\n",
        "      rel_error_values[j,i] = relative_error(values[j,i],values[j,i+1])\n",
        "\n",
        "print(rel_error_values)"
      ],
      "metadata": {
        "colab": {
          "base_uri": "https://localhost:8080/"
        },
        "id": "rcb_LGMomY3B",
        "outputId": "4ae36461-384a-44e5-ee29-32226ba51122"
      },
      "execution_count": null,
      "outputs": [
        {
          "output_type": "stream",
          "name": "stdout",
          "text": [
            "[[0.6        0.5        0.4        0.3        0.2       ]\n",
            " [0.17823226 0.20086971 0.22687849 0.25679541 0.        ]\n",
            " [0.16387612 0.16309137 0.155064   0.13601944 0.        ]]\n"
          ]
        }
      ]
    },
    {
      "cell_type": "markdown",
      "source": [
        "#Scatter Plots"
      ],
      "metadata": {
        "id": "Wb2ExtWdz3Gd"
      }
    },
    {
      "cell_type": "code",
      "source": [
        "#1st level f'(2) result vs. h values\n",
        "\n",
        "fprime= f_1deriv(2)\n",
        "forwardOh_plt= plt.scatter(values[:,0],values[:,1], c=\"blue\") #forward O(h) values in blue\n",
        "backwardOh_plt= plt.scatter(values[:,0],values[:,3], c=\"orange\")  #backward O(h) values in blue\n",
        "centerOh2_plt= plt.scatter(values[:,0],values[:,5], c=\"green\")  #center O(h) values in blue\n",
        "# Add labels and title\n",
        "plt.xlabel('h values') #x-axis label\n",
        "plt.ylabel(\"1st level f'(2) result\") #y-axis label\n",
        "plt.title(\"1st level f'(2) result vs. h values\") #plot title\n",
        "\n",
        "plt.axhline(y=fprime, color='black', linestyle='-', label='Horizontal Line') #horizontal line for true f'(2) value\n",
        "\n",
        "plt.legend((forwardOh_plt, backwardOh_plt, centerOh2_plt), #legend\n",
        "           ('Forward Difference', 'Backward Difference', 'Center Difference'),\n",
        "           scatterpoints=1,\n",
        "           loc='lower left',\n",
        "           ncol=3,\n",
        "           fontsize=7.5)\n",
        "\n",
        "\n",
        "# Show plot\n",
        "plt.show()"
      ],
      "metadata": {
        "colab": {
          "base_uri": "https://localhost:8080/",
          "height": 472
        },
        "id": "BOijyBnJ1ibB",
        "outputId": "78b62376-85d4-4138-c93d-6a6f3b0ec5b3"
      },
      "execution_count": null,
      "outputs": [
        {
          "output_type": "display_data",
          "data": {
            "text/plain": [
              "<Figure size 640x480 with 1 Axes>"
            ],
            "image/png": "[encoded data removed]"
          },
          "metadata": {}
        }
      ]
    },
    {
      "cell_type": "code",
      "source": [
        "#2nd level f'(2) result vs. h values\n",
        "\n",
        "fprime= f_1deriv(2)\n",
        "forwardOh2_plt= plt.scatter(values[:,0],values[:,2], c=\"blue\") #forward O(h) values in blue\n",
        "backwardOh2_plt= plt.scatter(values[:,0],values[:,4], c=\"orange\")  #backward O(h) values in blue\n",
        "centerOh4_plt= plt.scatter(values[:,0],values[:,6], c=\"green\")  #center O(h) values in blue\n",
        "# Add labels and title\n",
        "plt.xlabel('h values') #x-axis label\n",
        "plt.ylabel(\"2nd level f'(2) result\") #y-axis label\n",
        "plt.title(\"2nd level f'(2) result vs. h values\") #plot title\n",
        "\n",
        "plt.axhline(y=fprime, color='black', linestyle='-', label='Horizontal Line') #horizontal line for true f'(2) value\n",
        "\n",
        "plt.legend((forwardOh2_plt, backwardOh2_plt, centerOh4_plt), #legend\n",
        "           ('Forward Difference', 'Backward Difference', 'Center Difference'),\n",
        "           scatterpoints=1,\n",
        "           loc='upper left',\n",
        "           ncol=3,\n",
        "           fontsize=7.5)\n",
        "\n",
        "\n",
        "# Show plot\n",
        "plt.show()"
      ],
      "metadata": {
        "colab": {
          "base_uri": "https://localhost:8080/",
          "height": 472
        },
        "id": "drHd4OV5Hmw7",
        "outputId": "1758a7c9-1801-4a45-f423-5ce06e75e203"
      },
      "execution_count": null,
      "outputs": [
        {
          "output_type": "display_data",
          "data": {
            "text/plain": [
              "<Figure size 640x480 with 1 Axes>"
            ],
            "image/png": "[encoded data removed]"
          },
          "metadata": {}
        }
      ]
    }
  ]
}